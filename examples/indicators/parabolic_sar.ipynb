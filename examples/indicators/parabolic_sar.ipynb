{
 "cells": [
  {
   "cell_type": "markdown",
   "id": "959a247a",
   "metadata": {},
   "source": [
    "---\n",
    "\n",
    "#  Mplfinance Used To Plot Parabolic SAR\n",
    "\n",
    "---"
   ]
  },
  {
   "cell_type": "markdown",
   "id": "c6799029",
   "metadata": {},
   "source": [
    "### What is Parabolic SAR\n",
    "The parabolic stop and reverse, more commonly known as the \"Parabolic SAR,\" or \"PSAR\" is a trend-following indicator developed by J. Welles Wilder. It is displayed as a single parabolic line (or dots) underneath the price bars in an uptrend, and above the price bars in a downtrend.\n",
    "\n",
    "The parabolic SAR has three primary functions. First, it highlights the current price direction or trend. Second, it provides potential entry signals. Third, it provides potential exit signals."
   ]
  },
  {
   "cell_type": "markdown",
   "id": "dc724a84",
   "metadata": {},
   "source": [
    "---\n",
    "\n",
    "### mplfinance 'yahoo' styles was used to customize:\n",
    "- Type of Plot Use `candle`\n",
    "- Parabolic SAR Build With Two Types Lines Named Upper Band and Lower Band\n",
    "- Background, Grid, and Figure Colors\n",
    "- Grid style\n",
    "- Y-Axis On The Right or Left\n",
    "- Matplotlib Defaults\n",
    "- Fill Between\n",
    "- Alpha\n",
    "- Color\n",
    "#### The simplest way to do this is to choose one of the `add_plot` that come packaged with `mplfinance`\n",
    "#### but, as we see below, it is also possible to customize your own `mplfinance styles`.\n",
    "#### Also Other Plot Type Can Be Used\n",
    "\n",
    "---"
   ]
  },
  {
   "cell_type": "code",
   "execution_count": 1,
   "id": "466ece3e",
   "metadata": {},
   "outputs": [],
   "source": [
    "import pandas as pd\n",
    "import mplfinance as mpf\n",
    "import numpy as np"
   ]
  },
  {
   "cell_type": "code",
   "execution_count": 2,
   "id": "99d144e4",
   "metadata": {},
   "outputs": [],
   "source": [
    "# This allows multiple outputs from a single jupyter notebook cell:\n",
    "from IPython.core.interactiveshell import InteractiveShell\n",
    "InteractiveShell.ast_node_interactivity = \"all\""
   ]
  },
  {
   "cell_type": "markdown",
   "id": "9085a2ae",
   "metadata": {},
   "source": [
    "### Read in daily data for the S&P 500 from November of 2019 "
   ]
  },
  {
   "cell_type": "code",
   "execution_count": 3,
   "id": "86a4ec31",
   "metadata": {},
   "outputs": [
    {
     "data": {
      "text/plain": [
       "(200, 6)"
      ]
     },
     "execution_count": 3,
     "metadata": {},
     "output_type": "execute_result"
    },
    {
     "data": {
      "text/html": [
       "<div>\n",
       "<style scoped>\n",
       "    .dataframe tbody tr th:only-of-type {\n",
       "        vertical-align: middle;\n",
       "    }\n",
       "\n",
       "    .dataframe tbody tr th {\n",
       "        vertical-align: top;\n",
       "    }\n",
       "\n",
       "    .dataframe thead th {\n",
       "        text-align: right;\n",
       "    }\n",
       "</style>\n",
       "<table border=\"1\" class=\"dataframe\">\n",
       "  <thead>\n",
       "    <tr style=\"text-align: right;\">\n",
       "      <th></th>\n",
       "      <th>Open</th>\n",
       "      <th>High</th>\n",
       "      <th>Low</th>\n",
       "      <th>Close</th>\n",
       "      <th>Adj Close</th>\n",
       "      <th>Volume</th>\n",
       "    </tr>\n",
       "    <tr>\n",
       "      <th>Date</th>\n",
       "      <th></th>\n",
       "      <th></th>\n",
       "      <th></th>\n",
       "      <th></th>\n",
       "      <th></th>\n",
       "      <th></th>\n",
       "    </tr>\n",
       "  </thead>\n",
       "  <tbody>\n",
       "    <tr>\n",
       "      <th>2003-06-25</th>\n",
       "      <td>20.530001</td>\n",
       "      <td>20.83</td>\n",
       "      <td>19.99</td>\n",
       "      <td>20.040001</td>\n",
       "      <td>13.693501</td>\n",
       "      <td>61250600</td>\n",
       "    </tr>\n",
       "    <tr>\n",
       "      <th>2003-06-26</th>\n",
       "      <td>20.299999</td>\n",
       "      <td>20.76</td>\n",
       "      <td>20.15</td>\n",
       "      <td>20.629999</td>\n",
       "      <td>14.096654</td>\n",
       "      <td>52904900</td>\n",
       "    </tr>\n",
       "  </tbody>\n",
       "</table>\n",
       "</div>"
      ],
      "text/plain": [
       "                 Open   High    Low      Close  Adj Close    Volume\n",
       "Date                                                               \n",
       "2003-06-25  20.530001  20.83  19.99  20.040001  13.693501  61250600\n",
       "2003-06-26  20.299999  20.76  20.15  20.629999  14.096654  52904900"
      ]
     },
     "execution_count": 3,
     "metadata": {},
     "output_type": "execute_result"
    },
    {
     "data": {
      "text/html": [
       "<div>\n",
       "<style scoped>\n",
       "    .dataframe tbody tr th:only-of-type {\n",
       "        vertical-align: middle;\n",
       "    }\n",
       "\n",
       "    .dataframe tbody tr th {\n",
       "        vertical-align: top;\n",
       "    }\n",
       "\n",
       "    .dataframe thead th {\n",
       "        text-align: right;\n",
       "    }\n",
       "</style>\n",
       "<table border=\"1\" class=\"dataframe\">\n",
       "  <thead>\n",
       "    <tr style=\"text-align: right;\">\n",
       "      <th></th>\n",
       "      <th>Open</th>\n",
       "      <th>High</th>\n",
       "      <th>Low</th>\n",
       "      <th>Close</th>\n",
       "      <th>Adj Close</th>\n",
       "      <th>Volume</th>\n",
       "    </tr>\n",
       "    <tr>\n",
       "      <th>Date</th>\n",
       "      <th></th>\n",
       "      <th></th>\n",
       "      <th></th>\n",
       "      <th></th>\n",
       "      <th></th>\n",
       "      <th></th>\n",
       "    </tr>\n",
       "  </thead>\n",
       "  <tbody>\n",
       "    <tr>\n",
       "      <th>2004-04-07</th>\n",
       "      <td>28.08</td>\n",
       "      <td>28.129999</td>\n",
       "      <td>27.480000</td>\n",
       "      <td>27.620001</td>\n",
       "      <td>18.923342</td>\n",
       "      <td>72680200</td>\n",
       "    </tr>\n",
       "    <tr>\n",
       "      <th>2004-04-08</th>\n",
       "      <td>28.08</td>\n",
       "      <td>28.139999</td>\n",
       "      <td>27.200001</td>\n",
       "      <td>27.370001</td>\n",
       "      <td>18.752058</td>\n",
       "      <td>71791400</td>\n",
       "    </tr>\n",
       "  </tbody>\n",
       "</table>\n",
       "</div>"
      ],
      "text/plain": [
       "             Open       High        Low      Close  Adj Close    Volume\n",
       "Date                                                                   \n",
       "2004-04-07  28.08  28.129999  27.480000  27.620001  18.923342  72680200\n",
       "2004-04-08  28.08  28.139999  27.200001  27.370001  18.752058  71791400"
      ]
     },
     "execution_count": 3,
     "metadata": {},
     "output_type": "execute_result"
    }
   ],
   "source": [
    "idf = pd.read_csv('data/yahoofinance-INTC-19950101-20040412.csv',index_col=0,parse_dates=True).tail(200)\n",
    "\n",
    "df = idf.copy()\n",
    "df.index.name = 'Date'\n",
    "df.shape\n",
    "df.head(2)\n",
    "df.tail(2)"
   ]
  },
  {
   "cell_type": "markdown",
   "id": "aa309397",
   "metadata": {},
   "source": [
    "---\n",
    "\n",
    "The parabolic SAR (PSAR) indicator uses the most recent extreme price (EP) along with an acceleration factor (AF) to determine where the indicator dots will appear\n",
    "The parabolic SAR is calculated as follows:\n",
    "\n",
    "- Uptrend: PSAR = Prior PSAR + Prior AF (Prior EP - Prior PSAR)\n",
    "- Downtrend: PSAR = Prior PSAR - Prior AF (Prior PSAR - Prior EP)\n",
    "Where:\n",
    "\n",
    "- EP = Highest high for an uptrend and lowest low for a downtrend, updated each time a new EP is reached.\n",
    "- AF = Default of 0.02, increasing by 0.02 each time a new EP is reached, with a maximum of 0.20.\n",
    "\n",
    "- **Here is Following Calculation:**\n",
    "---"
   ]
  },
  {
   "cell_type": "code",
   "execution_count": 4,
   "id": "842c2061",
   "metadata": {},
   "outputs": [],
   "source": [
    "#Parabolic SAR Calculation With High and Low Values\n",
    "def calculate_psar(high, low, af_start=0.02, af_step=0.02, af_max=0.2):\n",
    "    psar = []\n",
    "    trend = []\n",
    "    af = af_start\n",
    "    af_direction = 1\n",
    "    extreme_point = low.iloc[0]\n",
    "    psar.append(extreme_point)\n",
    "    trend.append(-1)\n",
    "\n",
    "    for i in range(1, len(high)):\n",
    "        if trend[-1] == -1:\n",
    "            if high.iloc[i] > extreme_point:\n",
    "                extreme_point = high.iloc[i]\n",
    "                af = min(af + af_direction * af_step, af_max)\n",
    "            psar.append(psar[-1] + af * (extreme_point - psar[-1]))\n",
    "            if psar[-1] > low.iloc[i-1]:\n",
    "                psar[-1] = low.iloc[i-1]\n",
    "            if psar[-1] > low.iloc[i]:\n",
    "                trend.append(1)\n",
    "                extreme_point = low.iloc[i]\n",
    "                af = af_start\n",
    "            else:\n",
    "                trend.append(-1)\n",
    "        else:\n",
    "            if low.iloc[i] < extreme_point:\n",
    "                extreme_point = low.iloc[i]\n",
    "                af = min(af + af_direction * af_step, af_max)\n",
    "            psar.append(psar[-1] + af * (extreme_point - psar[-1]))\n",
    "            if psar[-1] < high.iloc[i-1]:\n",
    "                psar[-1] = high.iloc[i-1]\n",
    "            if psar[-1] < high.iloc[i]:\n",
    "                trend.append(-1)\n",
    "                extreme_point = high.iloc[i]\n",
    "                af = af_start\n",
    "            else:\n",
    "                trend.append(1)\n",
    "\n",
    "    return pd.Series(psar, index=high.index), pd.Series(trend, index=high.index)\n"
   ]
  },
  {
   "cell_type": "markdown",
   "id": "a462e84c",
   "metadata": {},
   "source": [
    "### Segregation Positive and Negative Trend"
   ]
  },
  {
   "cell_type": "code",
   "execution_count": 5,
   "id": "3acab0be",
   "metadata": {},
   "outputs": [],
   "source": [
    "def color(df):\n",
    "    UP = []\n",
    "    DOWN = []\n",
    "    for i in range(len(df)):\n",
    "        if df['PSAR'][i] < df['Close'][i]:\n",
    "            UP.append(float(df['PSAR'][i]))\n",
    "            DOWN.append(np.nan)\n",
    "        elif df['PSAR'][i] > df['Close'][i]:\n",
    "            DOWN.append(float(df['PSAR'][i]))\n",
    "            UP.append(np.nan)\n",
    "        else:\n",
    "            UP.append(np.nan)\n",
    "            DOWN.append(np.nan)\n",
    "    df['up'] = UP\n",
    "    df['down'] = DOWN\n",
    "    return df "
   ]
  },
  {
   "cell_type": "code",
   "execution_count": 6,
   "id": "c9840c42",
   "metadata": {},
   "outputs": [],
   "source": [
    "#Getting High's And Low's From df\n",
    "high = df['High']\n",
    "low = df['Low']"
   ]
  },
  {
   "cell_type": "code",
   "execution_count": 7,
   "id": "745c4e74",
   "metadata": {},
   "outputs": [],
   "source": [
    "# Function For Calculation Return df\n",
    "df['PSAR'], df['PSAR_1'] = calculate_psar(high, low, af_start=0.02, af_step=0.02, af_max=0.2)"
   ]
  },
  {
   "cell_type": "code",
   "execution_count": 8,
   "id": "9236db97",
   "metadata": {},
   "outputs": [],
   "source": [
    "#Color Seperation\n",
    "psar_df = color(df)"
   ]
  },
  {
   "cell_type": "code",
   "execution_count": 9,
   "id": "d6daf32a",
   "metadata": {},
   "outputs": [],
   "source": [
    "# Data Extracted And New Variable Applied\n",
    "a = psar_df[['up']]\n",
    "b = psar_df[['down']]"
   ]
  },
  {
   "cell_type": "markdown",
   "id": "f52eddd7",
   "metadata": {},
   "source": [
    "---\n",
    "\n",
    "Let's say we want to plot the Ichimoku Cloud along with the basic OHLCV plot.  \n",
    "\n",
    "We Use `make_addplot()` to create the addplot dict, and pass that into the plot() function:\n",
    "\n",
    "We Use `Color` To Define Line Colors\n",
    "\n",
    "We Use `alpha` To Define Depth Line Color"
   ]
  },
  {
   "cell_type": "code",
   "execution_count": 10,
   "id": "7bf67a45",
   "metadata": {},
   "outputs": [],
   "source": [
    "psar = [\n",
    "    mpf.make_addplot(a,scatter=True,color='green',),\n",
    "    mpf.make_addplot(b,scatter=True,color='red',),\n",
    "]"
   ]
  },
  {
   "cell_type": "code",
   "execution_count": 11,
   "id": "af4af23b",
   "metadata": {},
   "outputs": [
    {
     "data": {
      "image/png": "[encoded data removed]",
      "text/plain": [
       "<Figure size 2592x1152 with 4 Axes>"
      ]
     },
     "metadata": {
      "needs_background": "light"
     },
     "output_type": "display_data"
    }
   ],
   "source": [
    "mpf.plot(\n",
    "    df,\n",
    "    volume=True,\n",
    "    type=\"candle\", \n",
    "    #fill_between = [ichimoko_fill_up,ichimoko_fill_down],\n",
    "    style=\"yahoo\",\n",
    "    addplot=psar,\n",
    "    figscale=1.2,\n",
    "    figsize=(36,16,)\n",
    ")"
   ]
  },
  {
   "cell_type": "code",
   "execution_count": null,
   "id": "ba2c3f20",
   "metadata": {},
   "outputs": [],
   "source": []
  }
 ],
 "metadata": {
  "kernelspec": {
   "display_name": "Python 3 (ipykernel)",
   "language": "python",
   "name": "python3"
  },
  "language_info": {
   "codemirror_mode": {
    "name": "ipython",
    "version": 3
   },
   "file_extension": ".py",
   "mimetype": "text/x-python",
   "name": "python",
   "nbconvert_exporter": "python",
   "pygments_lexer": "ipython3",
   "version": "3.9.7"
  }
 },
 "nbformat": 4,
 "nbformat_minor": 5
}
