{
 "cells": [
  {
   "cell_type": "markdown",
   "id": "132f5806",
   "metadata": {},
   "source": [
    "---\n",
    "\n",
    "#  Mplfinance Used To Plot Awesome Oscillator\n",
    "\n",
    "---"
   ]
  },
  {
   "cell_type": "markdown",
   "id": "f21455df",
   "metadata": {},
   "source": [
    "### What Is The Awesome Oscillator\n",
    "- The aptly named Awesome Oscillator is an amazing  designed to measure the underlying  as well as to confirm trends and anticipate reversals.\n",
    "\n",
    "- The Awesome Oscillator was developed by the legendary chartist Bill Williams, who described it as the ‘best momentum indicator’ that is ‘as simple as it is elegant’.\n",
    "\n",
    "- The Awesome Oscillator is based on a combination of , but its ‘awesomeness’ is illustrated by the clear and straightforward  that it generates.\n",
    "\n",
    "- As its name suggests, the Awesome Oscillator belongs to the broader group of oscillators, which consists of indicators such as the ,  and . But while most oscillators usually swing between defined values such as ‘0 to 100’ or ‘-100 to +100’, the Awesome Oscillator is unbounded.\n",
    "\n",
    "- Other popular  include the Accelerator Oscillator, Fractals, Gator Oscillator, Alligator and the Market Facilitation Index.\n"
   ]
  },
  {
   "cell_type": "markdown",
   "id": "2d2bc743",
   "metadata": {},
   "source": [
    "---\n",
    "\n",
    "### mplfinance 'yahoo' styles was used to customize Awesome Oscillator:\n",
    "- Type of Plot Use `candle`\n",
    "- Awesome Oscillator Build With Histogram Bar\n",
    "- Background, Grid, and Figure Colors\n",
    "- Grid style\n",
    "- Y-Axis On The Right or Left\n",
    "- Matplotlib Defaults\n",
    "- panel\n",
    "- Bar Color\n",
    "#### The simplest way to do this is to choose one of the `add_plot` that come packaged with `mplfinance`\n",
    "#### but, as we see below, it is also possible to customize your own `mplfinance styles`.\n",
    "#### Also Other Plot Type Can Be Used\n",
    "\n",
    "---"
   ]
  },
  {
   "cell_type": "code",
   "execution_count": 1,
   "id": "8db9cbc1",
   "metadata": {},
   "outputs": [],
   "source": [
    "import pandas as pd\n",
    "import mplfinance as mpf"
   ]
  },
  {
   "cell_type": "code",
   "execution_count": 2,
   "id": "976e1224",
   "metadata": {},
   "outputs": [],
   "source": [
    "# This allows multiple outputs from a single jupyter notebook cell:\n",
    "from IPython.core.interactiveshell import InteractiveShell\n",
    "InteractiveShell.ast_node_interactivity = \"all\""
   ]
  },
  {
   "cell_type": "markdown",
   "id": "b0a501a1",
   "metadata": {},
   "source": [
    "### Read in daily data for the S&P 500 from November of 2019 "
   ]
  },
  {
   "cell_type": "code",
   "execution_count": 3,
   "id": "760edd72",
   "metadata": {},
   "outputs": [
    {
     "data": {
      "text/plain": [
       "(200, 6)"
      ]
     },
     "execution_count": 3,
     "metadata": {},
     "output_type": "execute_result"
    },
    {
     "data": {
      "text/html": [
       "<div>\n",
       "<style scoped>\n",
       "    .dataframe tbody tr th:only-of-type {\n",
       "        vertical-align: middle;\n",
       "    }\n",
       "\n",
       "    .dataframe tbody tr th {\n",
       "        vertical-align: top;\n",
       "    }\n",
       "\n",
       "    .dataframe thead th {\n",
       "        text-align: right;\n",
       "    }\n",
       "</style>\n",
       "<table border=\"1\" class=\"dataframe\">\n",
       "  <thead>\n",
       "    <tr style=\"text-align: right;\">\n",
       "      <th></th>\n",
       "      <th>Open</th>\n",
       "      <th>High</th>\n",
       "      <th>Low</th>\n",
       "      <th>Close</th>\n",
       "      <th>Adj Close</th>\n",
       "      <th>Volume</th>\n",
       "    </tr>\n",
       "    <tr>\n",
       "      <th>Date</th>\n",
       "      <th></th>\n",
       "      <th></th>\n",
       "      <th></th>\n",
       "      <th></th>\n",
       "      <th></th>\n",
       "      <th></th>\n",
       "    </tr>\n",
       "  </thead>\n",
       "  <tbody>\n",
       "    <tr>\n",
       "      <th>2003-06-25</th>\n",
       "      <td>20.530001</td>\n",
       "      <td>20.83</td>\n",
       "      <td>19.99</td>\n",
       "      <td>20.040001</td>\n",
       "      <td>13.693501</td>\n",
       "      <td>61250600</td>\n",
       "    </tr>\n",
       "    <tr>\n",
       "      <th>2003-06-26</th>\n",
       "      <td>20.299999</td>\n",
       "      <td>20.76</td>\n",
       "      <td>20.15</td>\n",
       "      <td>20.629999</td>\n",
       "      <td>14.096654</td>\n",
       "      <td>52904900</td>\n",
       "    </tr>\n",
       "  </tbody>\n",
       "</table>\n",
       "</div>"
      ],
      "text/plain": [
       "                 Open   High    Low      Close  Adj Close    Volume\n",
       "Date                                                               \n",
       "2003-06-25  20.530001  20.83  19.99  20.040001  13.693501  61250600\n",
       "2003-06-26  20.299999  20.76  20.15  20.629999  14.096654  52904900"
      ]
     },
     "execution_count": 3,
     "metadata": {},
     "output_type": "execute_result"
    },
    {
     "data": {
      "text/html": [
       "<div>\n",
       "<style scoped>\n",
       "    .dataframe tbody tr th:only-of-type {\n",
       "        vertical-align: middle;\n",
       "    }\n",
       "\n",
       "    .dataframe tbody tr th {\n",
       "        vertical-align: top;\n",
       "    }\n",
       "\n",
       "    .dataframe thead th {\n",
       "        text-align: right;\n",
       "    }\n",
       "</style>\n",
       "<table border=\"1\" class=\"dataframe\">\n",
       "  <thead>\n",
       "    <tr style=\"text-align: right;\">\n",
       "      <th></th>\n",
       "      <th>Open</th>\n",
       "      <th>High</th>\n",
       "      <th>Low</th>\n",
       "      <th>Close</th>\n",
       "      <th>Adj Close</th>\n",
       "      <th>Volume</th>\n",
       "    </tr>\n",
       "    <tr>\n",
       "      <th>Date</th>\n",
       "      <th></th>\n",
       "      <th></th>\n",
       "      <th></th>\n",
       "      <th></th>\n",
       "      <th></th>\n",
       "      <th></th>\n",
       "    </tr>\n",
       "  </thead>\n",
       "  <tbody>\n",
       "    <tr>\n",
       "      <th>2004-04-07</th>\n",
       "      <td>28.08</td>\n",
       "      <td>28.129999</td>\n",
       "      <td>27.480000</td>\n",
       "      <td>27.620001</td>\n",
       "      <td>18.923342</td>\n",
       "      <td>72680200</td>\n",
       "    </tr>\n",
       "    <tr>\n",
       "      <th>2004-04-08</th>\n",
       "      <td>28.08</td>\n",
       "      <td>28.139999</td>\n",
       "      <td>27.200001</td>\n",
       "      <td>27.370001</td>\n",
       "      <td>18.752058</td>\n",
       "      <td>71791400</td>\n",
       "    </tr>\n",
       "  </tbody>\n",
       "</table>\n",
       "</div>"
      ],
      "text/plain": [
       "             Open       High        Low      Close  Adj Close    Volume\n",
       "Date                                                                   \n",
       "2004-04-07  28.08  28.129999  27.480000  27.620001  18.923342  72680200\n",
       "2004-04-08  28.08  28.139999  27.200001  27.370001  18.752058  71791400"
      ]
     },
     "execution_count": 3,
     "metadata": {},
     "output_type": "execute_result"
    }
   ],
   "source": [
    "idf = pd.read_csv('data/yahoofinance-INTC-19950101-20040412.csv',index_col=0,parse_dates=True).tail(200)\n",
    "\n",
    "df = idf.copy()\n",
    "df.index.name = 'Date'\n",
    "df.shape\n",
    "df.head(2)\n",
    "df.tail(2)"
   ]
  },
  {
   "cell_type": "markdown",
   "id": "2859d3fe",
   "metadata": {},
   "source": [
    "---\n",
    "- **Calculating the Awesome Indicator**\n",
    "- The formula to calculate the Awesome Oscillator is as follows:\n",
    "\n",
    "- Awesome Oscillator = SMA (MEDIAN PRICE, 5)-SMA (MEDIAN PRICE, 34)\n",
    "\n",
    "- Where:\n",
    "\n",
    "- SMA = simple moving average\n",
    "\n",
    "- Median Price = (HIGH+LOW)/2\n",
    "- **Here is Function For The Calculation:**\n",
    "\n",
    "---"
   ]
  },
  {
   "cell_type": "code",
   "execution_count": 4,
   "id": "0294b569",
   "metadata": {},
   "outputs": [],
   "source": [
    "#Calculation For Simple Moving Average For Length 34 as Long SMA\n",
    "df['SMA34'] = df['Close'].rolling(window=34).mean()"
   ]
  },
  {
   "cell_type": "code",
   "execution_count": 5,
   "id": "60577083",
   "metadata": {},
   "outputs": [],
   "source": [
    "#Calculation For Simple Moving Average For Length 5 as Short SMA\n",
    "df['SMA5'] = df['Close'].rolling(window=5).mean()"
   ]
  },
  {
   "cell_type": "code",
   "execution_count": 6,
   "id": "8f51c335",
   "metadata": {},
   "outputs": [],
   "source": [
    "# Awesome_Oscillator Column Assign To df\n",
    "df['AO'] = df['SMA5'] - df['SMA34']"
   ]
  },
  {
   "cell_type": "markdown",
   "id": "4ed037fa",
   "metadata": {},
   "source": [
    "### Function For Generate Color Awesome_oscillator"
   ]
  },
  {
   "cell_type": "code",
   "execution_count": 7,
   "id": "1ad7fb7e",
   "metadata": {},
   "outputs": [],
   "source": [
    "def generate_awesome_oscillator_color(df):\n",
    "    awesome_oscillator_color = []\n",
    "    awesome_oscillator_color.clear()\n",
    "    for i in range (0,len(df[\"AO\"])):\n",
    "        if df[\"AO\"][i] >= 0 and df[\"AO\"][i-1] < df[\"AO\"][i]:\n",
    "            awesome_oscillator_color.append('#26A69A')\n",
    "            #print(i,'green')\n",
    "        elif df[\"AO\"][i] >= 0 and df[\"AO\"][i-1] > df[\"AO\"][i]:\n",
    "            awesome_oscillator_color.append('#FF5252')\n",
    "            #print(i,'faint green')\n",
    "        elif df[\"AO\"][i] < 0 and df[\"AO\"][i-1] > df[\"AO\"][i] :\n",
    "            #print(i,'red')\n",
    "            awesome_oscillator_color.append('#FF5252')\n",
    "        elif df[\"AO\"][i] < 0 and df[\"AO\"][i-1] < df[\"AO\"][i] :\n",
    "            #print(i,'faint red')\n",
    "            awesome_oscillator_color.append('#26A69A')\n",
    "        else:\n",
    "            awesome_oscillator_color.append('#000000')\n",
    "    return awesome_oscillator_color"
   ]
  },
  {
   "cell_type": "code",
   "execution_count": 8,
   "id": "244270b6",
   "metadata": {},
   "outputs": [],
   "source": [
    "# List of Color Assiging To Awesome Oscillator\n",
    "awesome_oscillator_color = generate_awesome_oscillator_color(df)"
   ]
  },
  {
   "cell_type": "code",
   "execution_count": 9,
   "id": "a12c51b8",
   "metadata": {},
   "outputs": [],
   "source": [
    "# Data Extracted And New Variable Applied\n",
    "awesome_oscillator = df[['AO']]"
   ]
  },
  {
   "cell_type": "markdown",
   "id": "c56fba65",
   "metadata": {},
   "source": [
    "Let's add a new panel containing Histogram.\n",
    "\n",
    "By default addplot uses Panel 0 For Main Candlestick."
   ]
  },
  {
   "cell_type": "code",
   "execution_count": 10,
   "id": "9febb60d",
   "metadata": {},
   "outputs": [],
   "source": [
    "ao = [\n",
    "    mpf.make_addplot(awesome_oscillator,type='bar',width=0.7,color=awesome_oscillator_color,panel=1,alpha=1,secondary_y=True)\n",
    "]"
   ]
  },
  {
   "cell_type": "code",
   "execution_count": 11,
   "id": "2b47e643",
   "metadata": {},
   "outputs": [
    {
     "data": {
      "image/png": "[encoded data removed]",
      "text/plain": [
       "<Figure size 2592x1152 with 6 Axes>"
      ]
     },
     "metadata": {
      "needs_background": "light"
     },
     "output_type": "display_data"
    }
   ],
   "source": [
    "mpf.plot(\n",
    "    df,\n",
    "    volume=True,\n",
    "    volume_panel = 2,\n",
    "    type=\"candle\", \n",
    "    style=\"yahoo\",\n",
    "    addplot=ao,\n",
    "    figscale=1.2,\n",
    "    figsize=(36,16,)\n",
    ")"
   ]
  },
  {
   "cell_type": "code",
   "execution_count": null,
   "id": "939d0172",
   "metadata": {},
   "outputs": [],
   "source": []
  }
 ],
 "metadata": {
  "kernelspec": {
   "display_name": "Python 3 (ipykernel)",
   "language": "python",
   "name": "python3"
  },
  "language_info": {
   "codemirror_mode": {
    "name": "ipython",
    "version": 3
   },
   "file_extension": ".py",
   "mimetype": "text/x-python",
   "name": "python",
   "nbconvert_exporter": "python",
   "pygments_lexer": "ipython3",
   "version": "3.9.7"
  }
 },
 "nbformat": 4,
 "nbformat_minor": 5
}
