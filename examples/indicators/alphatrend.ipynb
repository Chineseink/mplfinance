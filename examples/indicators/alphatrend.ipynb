{
 "cells": [
  {
   "cell_type": "markdown",
   "id": "4be427e3",
   "metadata": {},
   "source": [
    "---\n",
    "\n",
    "#  Mplfinance Used To Plot Alfhatrend Indicator\n",
    "\n",
    "---"
   ]
  },
  {
   "cell_type": "markdown",
   "id": "db022190",
   "metadata": {},
   "source": [
    "### What is Alphatrend Indicator\n",
    "The Alpha Trend indicator is a powerful tool that traders use to identify trends and trading points in the market. It addresses four key elements:\n",
    "\n",
    "- Reducing false signals at sideway market by trading less frequently\n",
    "- Creating a meaningful trading system by combining indicators from different categories\n",
    "- Establishing reliable buy and sell points\n",
    "- Identifying potential support and resistance levels"
   ]
  },
  {
   "cell_type": "markdown",
   "id": "abfc3353",
   "metadata": {},
   "source": [
    "---\n",
    "\n",
    "### mplfinance 'yahoo' styles was used to customize alphatrend indicator:\n",
    "- Type of Plot Use `candle`\n",
    "- Alphatrend Indicator Build With Two Types Lines Named Signal Line and Trend Line\n",
    "- Background, Grid, and Figure Colors\n",
    "- Grid style\n",
    "- Y-Axis On The Right or Left\n",
    "- Matplotlib Defaults\n",
    "- Fill Between\n",
    "- Alpha\n",
    "- Color\n",
    "#### The simplest way to do this is to choose one of the `add_plot` that come packaged with `mplfinance`\n",
    "#### but, as we see below, it is also possible to customize your own `mplfinance styles`.\n",
    "#### Also Other Plot Type Can Be Used\n",
    "\n",
    "---"
   ]
  },
  {
   "cell_type": "code",
   "execution_count": 1,
   "id": "821ec5c5",
   "metadata": {},
   "outputs": [],
   "source": [
    "import pandas as pd\n",
    "import pandas_ta as ta\n",
    "import mplfinance as mpf\n",
    "import numpy as np"
   ]
  },
  {
   "cell_type": "code",
   "execution_count": 2,
   "id": "378febfd",
   "metadata": {},
   "outputs": [],
   "source": [
    "# This allows multiple outputs from a single jupyter notebook cell:\n",
    "from IPython.core.interactiveshell import InteractiveShell\n",
    "InteractiveShell.ast_node_interactivity = \"all\""
   ]
  },
  {
   "cell_type": "markdown",
   "id": "b32a433d",
   "metadata": {},
   "source": [
    "### Read in daily data for the S&P 500 from November of 2019 "
   ]
  },
  {
   "cell_type": "code",
   "execution_count": 3,
   "id": "a410f0a2",
   "metadata": {},
   "outputs": [
    {
     "data": {
      "text/plain": [
       "(200, 6)"
      ]
     },
     "execution_count": 3,
     "metadata": {},
     "output_type": "execute_result"
    },
    {
     "data": {
      "text/html": [
       "<div>\n",
       "<style scoped>\n",
       "    .dataframe tbody tr th:only-of-type {\n",
       "        vertical-align: middle;\n",
       "    }\n",
       "\n",
       "    .dataframe tbody tr th {\n",
       "        vertical-align: top;\n",
       "    }\n",
       "\n",
       "    .dataframe thead th {\n",
       "        text-align: right;\n",
       "    }\n",
       "</style>\n",
       "<table border=\"1\" class=\"dataframe\">\n",
       "  <thead>\n",
       "    <tr style=\"text-align: right;\">\n",
       "      <th></th>\n",
       "      <th>Open</th>\n",
       "      <th>High</th>\n",
       "      <th>Low</th>\n",
       "      <th>Close</th>\n",
       "      <th>Adj Close</th>\n",
       "      <th>Volume</th>\n",
       "    </tr>\n",
       "    <tr>\n",
       "      <th>Date</th>\n",
       "      <th></th>\n",
       "      <th></th>\n",
       "      <th></th>\n",
       "      <th></th>\n",
       "      <th></th>\n",
       "      <th></th>\n",
       "    </tr>\n",
       "  </thead>\n",
       "  <tbody>\n",
       "    <tr>\n",
       "      <th>2003-06-25</th>\n",
       "      <td>20.530001</td>\n",
       "      <td>20.83</td>\n",
       "      <td>19.99</td>\n",
       "      <td>20.040001</td>\n",
       "      <td>13.693501</td>\n",
       "      <td>61250600</td>\n",
       "    </tr>\n",
       "    <tr>\n",
       "      <th>2003-06-26</th>\n",
       "      <td>20.299999</td>\n",
       "      <td>20.76</td>\n",
       "      <td>20.15</td>\n",
       "      <td>20.629999</td>\n",
       "      <td>14.096654</td>\n",
       "      <td>52904900</td>\n",
       "    </tr>\n",
       "  </tbody>\n",
       "</table>\n",
       "</div>"
      ],
      "text/plain": [
       "                 Open   High    Low      Close  Adj Close    Volume\n",
       "Date                                                               \n",
       "2003-06-25  20.530001  20.83  19.99  20.040001  13.693501  61250600\n",
       "2003-06-26  20.299999  20.76  20.15  20.629999  14.096654  52904900"
      ]
     },
     "execution_count": 3,
     "metadata": {},
     "output_type": "execute_result"
    },
    {
     "data": {
      "text/html": [
       "<div>\n",
       "<style scoped>\n",
       "    .dataframe tbody tr th:only-of-type {\n",
       "        vertical-align: middle;\n",
       "    }\n",
       "\n",
       "    .dataframe tbody tr th {\n",
       "        vertical-align: top;\n",
       "    }\n",
       "\n",
       "    .dataframe thead th {\n",
       "        text-align: right;\n",
       "    }\n",
       "</style>\n",
       "<table border=\"1\" class=\"dataframe\">\n",
       "  <thead>\n",
       "    <tr style=\"text-align: right;\">\n",
       "      <th></th>\n",
       "      <th>Open</th>\n",
       "      <th>High</th>\n",
       "      <th>Low</th>\n",
       "      <th>Close</th>\n",
       "      <th>Adj Close</th>\n",
       "      <th>Volume</th>\n",
       "    </tr>\n",
       "    <tr>\n",
       "      <th>Date</th>\n",
       "      <th></th>\n",
       "      <th></th>\n",
       "      <th></th>\n",
       "      <th></th>\n",
       "      <th></th>\n",
       "      <th></th>\n",
       "    </tr>\n",
       "  </thead>\n",
       "  <tbody>\n",
       "    <tr>\n",
       "      <th>2004-04-07</th>\n",
       "      <td>28.08</td>\n",
       "      <td>28.129999</td>\n",
       "      <td>27.480000</td>\n",
       "      <td>27.620001</td>\n",
       "      <td>18.923342</td>\n",
       "      <td>72680200</td>\n",
       "    </tr>\n",
       "    <tr>\n",
       "      <th>2004-04-08</th>\n",
       "      <td>28.08</td>\n",
       "      <td>28.139999</td>\n",
       "      <td>27.200001</td>\n",
       "      <td>27.370001</td>\n",
       "      <td>18.752058</td>\n",
       "      <td>71791400</td>\n",
       "    </tr>\n",
       "  </tbody>\n",
       "</table>\n",
       "</div>"
      ],
      "text/plain": [
       "             Open       High        Low      Close  Adj Close    Volume\n",
       "Date                                                                   \n",
       "2004-04-07  28.08  28.129999  27.480000  27.620001  18.923342  72680200\n",
       "2004-04-08  28.08  28.139999  27.200001  27.370001  18.752058  71791400"
      ]
     },
     "execution_count": 3,
     "metadata": {},
     "output_type": "execute_result"
    }
   ],
   "source": [
    "idf = pd.read_csv('data/yahoofinance-INTC-19950101-20040412.csv',index_col=0,parse_dates=True).tail(200)\n",
    "\n",
    "df = idf.copy()\n",
    "df.index.name = 'Date'\n",
    "df.shape\n",
    "df.head(2)\n",
    "df.tail(2)"
   ]
  },
  {
   "cell_type": "markdown",
   "id": "9157386c",
   "metadata": {},
   "source": [
    "---\n",
    "\n",
    "- `alphatrend_cal` is OHLCV Data To Return Trend And Signal Line Used In Alphatrend\n",
    "- **Here is Function For The Calculation:**\n",
    "\n",
    "---"
   ]
  },
  {
   "cell_type": "code",
   "execution_count": 4,
   "id": "5c3e9613",
   "metadata": {},
   "outputs": [],
   "source": [
    "def alphatrend_cal(df):  \n",
    "    Open = df['Open']\n",
    "    Close = df['Close']\n",
    "    High = df['High']\n",
    "    Low = df['Low']\n",
    "    Volume = df['Volume']\n",
    "    ap = 14\n",
    "    tr = ta.true_range(High, Low, Close)\n",
    "    atr = ta.sma(tr, ap)\n",
    "    noVolumeData = False\n",
    "    coeff = 1\n",
    "    upt = []\n",
    "    downT = []\n",
    "    AlphaTrend = [0.0]\n",
    "    src = Close\n",
    "    rsi = ta.rsi(src, 14)\n",
    "    hlc3 = []\n",
    "    k1 = []\n",
    "    k2 = []\n",
    "    mfi = ta.mfi(High, Low, Close, Volume, 14)\n",
    "    for i in range(len(Close)):\n",
    "        hlc3.append((High[i] + Low[i] + Close[i]) / 3)\n",
    "\n",
    "    for i in range(len(Low)):\n",
    "        if pd.isna(atr[i]):\n",
    "            upt.append(0)\n",
    "        else:\n",
    "            upt.append(Low[i] - (atr[i] * coeff))\n",
    "    for i in range(len(High)):\n",
    "        if pd.isna(atr[i]):\n",
    "            downT.append(0)\n",
    "        else:\n",
    "            downT.append(High[i] + (atr[i] * coeff))\n",
    "    for i in range(1, len(Close)):\n",
    "        if noVolumeData is True and rsi[i] >= 50:\n",
    "            if upt[i] < AlphaTrend[i - 1]:\n",
    "                AlphaTrend.append(AlphaTrend[i - 1])\n",
    "            else:\n",
    "                AlphaTrend.append(upt[i])\n",
    "\n",
    "        elif noVolumeData is False and mfi[i] >= 50:\n",
    "            if upt[i] < AlphaTrend[i - 1]:\n",
    "                AlphaTrend.append(AlphaTrend[i - 1])\n",
    "            else:\n",
    "                AlphaTrend.append(upt[i])\n",
    "        else:\n",
    "            if downT[i] > AlphaTrend[i - 1]:\n",
    "                AlphaTrend.append(AlphaTrend[i - 1])\n",
    "            else:\n",
    "                AlphaTrend.append(downT[i])\n",
    "\n",
    "    for i in range(len(AlphaTrend)):\n",
    "        if i < 2:\n",
    "            k2.append(0)\n",
    "            k1.append(AlphaTrend[i])\n",
    "        else:\n",
    "            k2.append(AlphaTrend[i - 2])\n",
    "            k1.append(AlphaTrend[i])\n",
    "\n",
    "    df['k1'] = k1\n",
    "    df['k2'] = k2\n",
    "    return df"
   ]
  },
  {
   "cell_type": "markdown",
   "id": "e84ec985",
   "metadata": {},
   "source": [
    "---\n",
    "\n",
    "- `alphatrend_cal` return new DataFrame With Two New Columns Named As `k1` and `k2`\n",
    "- **Here is New Dataframe Named As alphatrend:**\n",
    "\n",
    "---"
   ]
  },
  {
   "cell_type": "code",
   "execution_count": 5,
   "id": "6b097e76",
   "metadata": {},
   "outputs": [],
   "source": [
    "alphatrend = alphatrend_cal(df).tail(90)"
   ]
  },
  {
   "cell_type": "code",
   "execution_count": 6,
   "id": "84416a60",
   "metadata": {},
   "outputs": [],
   "source": [
    "# Data Extracted And New Variable Applied\n",
    "k1 = alphatrend[['k1']]\n",
    "k2 = alphatrend[['k2']]"
   ]
  },
  {
   "cell_type": "markdown",
   "id": "cc1e77f1",
   "metadata": {},
   "source": [
    "Use a dict to specify other attributes (kwargs) for `fill_between`:\n",
    "<br>\n",
    "To demonstrate use of `fill_between` the `where` kwarg to display a holding period\n",
    "<br>\n",
    "`where = aplhatrend['k1'] < alphatrend['k2']`"
   ]
  },
  {
   "cell_type": "code",
   "execution_count": 7,
   "id": "2a1415c7",
   "metadata": {},
   "outputs": [],
   "source": [
    "fill_up = dict(y1 = alphatrend['k1'].values, y2 = alphatrend['k2'].values, where = alphatrend['k1'] >= alphatrend['k2'], color = '#00E60F')\n",
    "fill_down = dict(y1 = alphatrend['k1'].values, y2 = alphatrend['k2'].values, where = alphatrend['k1'] <= alphatrend['k2'], color = '#80000B')"
   ]
  },
  {
   "cell_type": "markdown",
   "id": "4053fab9",
   "metadata": {},
   "source": [
    "---\n",
    "\n",
    "Let's say we want to plot the Ichimoku Cloud along with the basic OHLCV plot.  \n",
    "\n",
    "We Use `make_addplot()` to create the addplot dict, and pass that into the plot() function:\n",
    "\n",
    "We Use `Color` To Define Line Colors\n",
    "\n",
    "We Use `alpha` To Define Depth Line Color"
   ]
  },
  {
   "cell_type": "code",
   "execution_count": 8,
   "id": "3cc8fd1f",
   "metadata": {},
   "outputs": [],
   "source": [
    "ic = [\n",
    "    #Alpha Trend\n",
    "    mpf.make_addplot(k1,color = '#0022FC',width=3),\n",
    "    mpf.make_addplot(k2,color = '#FC0400',width=3),\n",
    "]"
   ]
  },
  {
   "cell_type": "code",
   "execution_count": 9,
   "id": "236c94af",
   "metadata": {},
   "outputs": [
    {
     "data": {
      "image/png": "[encoded data removed]",
      "text/plain": [
       "<Figure size 2592x1152 with 2 Axes>"
      ]
     },
     "metadata": {
      "needs_background": "light"
     },
     "output_type": "display_data"
    }
   ],
   "source": [
    "mpf.plot(\n",
    "    df.tail(90),\n",
    "    #volume=True,\n",
    "    type=\"candle\", \n",
    "    style=\"yahoo\",\n",
    "    addplot=ic,\n",
    "    figscale=1.2,\n",
    "    fill_between = [fill_up,fill_down],\n",
    "    figsize=(36,16,)\n",
    ")"
   ]
  },
  {
   "cell_type": "code",
   "execution_count": null,
   "id": "5ac1cbf1",
   "metadata": {},
   "outputs": [],
   "source": []
  }
 ],
 "metadata": {
  "kernelspec": {
   "display_name": "Python 3 (ipykernel)",
   "language": "python",
   "name": "python3"
  },
  "language_info": {
   "codemirror_mode": {
    "name": "ipython",
    "version": 3
   },
   "file_extension": ".py",
   "mimetype": "text/x-python",
   "name": "python",
   "nbconvert_exporter": "python",
   "pygments_lexer": "ipython3",
   "version": "3.9.7"
  }
 },
 "nbformat": 4,
 "nbformat_minor": 5
}
