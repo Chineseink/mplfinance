{
 "cells": [
  {
   "cell_type": "code",
   "execution_count": null,
   "id": "821ec5c5",
   "metadata": {},
   "outputs": [],
   "source": [
    "import pandas as pd\n",
    "import mplfinance as mpf\n",
    "import matplotlib.dates as mdates\n",
    "import numpy as np"
   ]
  },
  {
   "cell_type": "markdown",
   "id": "b32a433d",
   "metadata": {},
   "source": [
    "# Read in daily data for NSE TCS"
   ]
  },
  {
   "cell_type": "code",
   "execution_count": null,
   "id": "a410f0a2",
   "metadata": {},
   "outputs": [],
   "source": [
    "infile = 'data/t_data.csv'\n",
    "df = pd.read_csv(infile, index_col=0, parse_dates=True)"
   ]
  },
  {
   "cell_type": "code",
   "execution_count": null,
   "id": "7c9783ef",
   "metadata": {},
   "outputs": [],
   "source": [
    "# Formula For Simple Moving Average\n",
    "# df['SMA21'] = df['Close'].rolling(window=21).mean()\n",
    "# df['SMA100'] = df['Close'].rolling(window=100).mean()"
   ]
  },
  {
   "cell_type": "code",
   "execution_count": null,
   "id": "1e3a3f0a",
   "metadata": {},
   "outputs": [],
   "source": [
    "#Function For Color Coding Golden Crossover\n",
    "def color(goldencrossover):\n",
    "    UP = []\n",
    "    DOWN = []\n",
    "    for i in range(len(goldencrossover)):\n",
    "        if goldencrossover['SMA100'][i] < goldencrossover['SMA21'][i]:\n",
    "            UP.append(int(goldencrossover['SMA100'][i]))\n",
    "            DOWN.append(np.nan)\n",
    "        elif goldencrossover['SMA100'][i] > goldencrossover['SMA21'][i]:\n",
    "            DOWN.append(int(goldencrossover['SMA100'][i]))\n",
    "            UP.append(np.nan)\n",
    "        else:\n",
    "            UP.append(np.nan)\n",
    "            DOWN.append(np.nan)\n",
    "    goldencrossover['up'] = UP\n",
    "    goldencrossover['down'] = DOWN\n",
    "    return goldencrossover"
   ]
  },
  {
   "cell_type": "code",
   "execution_count": null,
   "id": "d2a8c7ff",
   "metadata": {},
   "outputs": [],
   "source": [
    "def golden_cal(df):\n",
    "    goldenSignal = []\n",
    "    deathSignal = []\n",
    "    position = False\n",
    "    for i in range(len(df)):\n",
    "        if df['SMA21'][i] > df['SMA100'][i]:\n",
    "            if position == False :\n",
    "                goldenSignal.append((df['SMA100'][i]-df['SMA100'][i]*0.01))\n",
    "                deathSignal.append(np.nan)\n",
    "                position = True\n",
    "            else:\n",
    "                goldenSignal.append(np.nan)\n",
    "                deathSignal.append(np.nan)\n",
    "        elif df['SMA21'][i] < df['SMA100'][i]:\n",
    "            if position == True:\n",
    "                goldenSignal.append(np.nan)\n",
    "                deathSignal.append((df['SMA100'][i]+df['SMA100'][i]*0.01))\n",
    "                position = False\n",
    "            else:\n",
    "                goldenSignal.append(np.nan)\n",
    "                deathSignal.append(np.nan)\n",
    "        else:\n",
    "            goldenSignal.append(np.nan)\n",
    "            deathSignal.append(np.nan)\n",
    "    df['GoldenCrossOver'] = goldenSignal\n",
    "    df['DeathCrossOver'] = deathSignal"
   ]
  },
  {
   "cell_type": "code",
   "execution_count": null,
   "id": "3de60151",
   "metadata": {},
   "outputs": [],
   "source": [
    "golden_cal(df)"
   ]
  },
  {
   "cell_type": "code",
   "execution_count": null,
   "id": "d0043a96",
   "metadata": {},
   "outputs": [],
   "source": [
    "#Fuction Color Applied And Df Generated \n",
    "goldencrossover = color(df)"
   ]
  },
  {
   "cell_type": "code",
   "execution_count": null,
   "id": "84416a60",
   "metadata": {},
   "outputs": [],
   "source": [
    "# Data Extracted And New Variable Applied\n",
    "up_sma100 = goldencrossover[['up']]\n",
    "down_sma100 = goldencrossover[['down']]\n",
    "up_sma21 = goldencrossover[['SMA21']]\n",
    "dco = goldencrossover[['GoldenCrossOver']]\n",
    "gco = goldencrossover[['DeathCrossOver']]"
   ]
  },
  {
   "cell_type": "code",
   "execution_count": null,
   "id": "3cc8fd1f",
   "metadata": {},
   "outputs": [],
   "source": [
    "ic = [\n",
    "    #Golden Crossover\n",
    "    mpf.make_addplot(up_sma100,color = 'green',panel=0,),\n",
    "    mpf.make_addplot(down_sma100,color = '#FF8849',panel=0,),\n",
    "    mpf.make_addplot(up_sma21,color = '#0496ff',panel=0,linestyle='dashdot'),\n",
    "    mpf.make_addplot(gco,type='scatter',markersize=200,marker='v',color='red',panel=0),\n",
    "    mpf.make_addplot(dco,type='scatter',markersize=200,marker='^',color='green',panel=0),\n",
    "]"
   ]
  },
  {
   "cell_type": "code",
   "execution_count": null,
   "id": "236c94af",
   "metadata": {},
   "outputs": [],
   "source": [
    "mpf.plot(\n",
    "    df,\n",
    "    volume=True,\n",
    "    type=\"candle\", \n",
    "    style=\"yahoo\",\n",
    "    addplot=ic,\n",
    "    figscale=1.2,\n",
    "    #fill_between = [fill_between_up,fill_between_down],\n",
    "    figsize=(36,16,)\n",
    ")"
   ]
  },
  {
   "cell_type": "code",
   "execution_count": null,
   "id": "c2401f98",
   "metadata": {},
   "outputs": [],
   "source": []
  },
  {
   "cell_type": "code",
   "execution_count": null,
   "id": "c77f6ac7",
   "metadata": {},
   "outputs": [],
   "source": []
  }
 ],
 "metadata": {
  "kernelspec": {
   "display_name": "Python 3 (ipykernel)",
   "language": "python",
   "name": "python3"
  },
  "language_info": {
   "codemirror_mode": {
    "name": "ipython",
    "version": 3
   },
   "file_extension": ".py",
   "mimetype": "text/x-python",
   "name": "python",
   "nbconvert_exporter": "python",
   "pygments_lexer": "ipython3",
   "version": "3.9.7"
  }
 },
 "nbformat": 4,
 "nbformat_minor": 5
}
